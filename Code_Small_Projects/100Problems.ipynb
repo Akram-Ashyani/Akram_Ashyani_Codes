{
 "cells": [
  {
   "cell_type": "markdown",
   "metadata": {},
   "source": [
    "## Problem 1: Print"
   ]
  },
  {
   "cell_type": "code",
   "execution_count": 13,
   "metadata": {
    "scrolled": true
   },
   "outputs": [
    {
     "name": "stdout",
     "output_type": "stream",
     "text": [
      "Name:Akram\n",
      "Number of repeat:5\n",
      "AkramAkramAkramAkramAkram\n"
     ]
    },
    {
     "data": {
      "text/plain": [
       "str"
      ]
     },
     "execution_count": 13,
     "metadata": {},
     "output_type": "execute_result"
    }
   ],
   "source": [
    "Name = input(\"Name:\")\n",
    "repeat = input(\"Number of repeat:\")\n",
    "print(Name * int(repeat))\n",
    "# type(repeat)"
   ]
  },
  {
   "cell_type": "markdown",
   "metadata": {},
   "source": [
    "## Problem 2: Calculate mosaic"
   ]
  },
  {
   "cell_type": "code",
   "execution_count": 19,
   "metadata": {},
   "outputs": [
    {
     "name": "stdout",
     "output_type": "stream",
     "text": [
      "Please write length of yard in meter:15\n",
      "Please write width of yard in meter:8\n",
      "Please write length of mosaic in centimeter:4\n",
      "Please write width of mosaic in centimeter:25\n",
      "Price of each mosaic:22000\n",
      "Number of mosaic needed: 12000\n",
      "total price: 264000000.0\n"
     ]
    }
   ],
   "source": [
    "length_yard = float(input(\"Please write length of yard in meter:\"))\n",
    "width_yard = float(input(\"Please write width of yard in meter:\"))\n",
    "\n",
    "length_mosaic = float(input(\"Please write length of mosaic in centimeter:\"))\n",
    "width_mosaic = float(input(\"Please write width of mosaic in centimeter:\"))\n",
    "\n",
    "price = float(input(\"Price of each mosaic:\"))\n",
    "area_yard = length_yard*width_yard*10000\n",
    "area_mosaic = length_mosaic*width_mosaic\n",
    "number_mosaic = area_yard/area_mosaic\n",
    "\n",
    "print(\"Number of mosaic needed: %d\" %number_mosaic)\n",
    "# print(\"Number of mosaic needed: \" +str(number_mosaic))\n",
    "price_total = number_mosaic*price\n",
    "print(\"total price: \"+str(price_total))"
   ]
  },
  {
   "cell_type": "markdown",
   "metadata": {},
   "source": [
    "## problem 3: Loan payment"
   ]
  },
  {
   "cell_type": "code",
   "execution_count": 22,
   "metadata": {},
   "outputs": [
    {
     "name": "stdout",
     "output_type": "stream",
     "text": [
      "Loan amount: 50000000\n",
      "Duration of loan (months): 36\n",
      "Rate: 18\n",
      "Monthly pay: 1807619.7767958508\n",
      "loan interest: 15074311\n"
     ]
    }
   ],
   "source": [
    "loan_amount= float(input(\"Loan amount: \"))\n",
    "duration= int(input(\"Duration of loan (months): \"))\n",
    "rate = float(input(\"Rate: \"))\n",
    "new_rate = rate/1200\n",
    "monthly_pay = (loan_amount*new_rate*(1+new_rate)**duration)/((1+new_rate)**duration-1)\n",
    "loan_interest = (monthly_pay*duration) - loan_amount\n",
    "print (\"Monthly pay: \" +str(monthly_pay))\n",
    "print (\"loan interest: %d\" %loan_interest)"
   ]
  },
  {
   "cell_type": "markdown",
   "metadata": {},
   "source": [
    "## problem 4: Email slicer"
   ]
  },
  {
   "cell_type": "code",
   "execution_count": null,
   "metadata": {},
   "outputs": [],
   "source": [
    "email = input(\"insert your email: \").strip()\n",
    "# .strip() will remove space in the start and end\n",
    "split_email = email.split(\"@\")\n",
    "print(split_email[0],split_email[1])"
   ]
  },
  {
   "cell_type": "markdown",
   "metadata": {},
   "source": [
    "## problem 5,6: Dice and Password maker"
   ]
  },
  {
   "cell_type": "code",
   "execution_count": 77,
   "metadata": {},
   "outputs": [
    {
     "data": {
      "text/plain": [
       "6"
      ]
     },
     "execution_count": 77,
     "metadata": {},
     "output_type": "execute_result"
    }
   ],
   "source": [
    "import random\n",
    "\n",
    "# random.randint(1,6)\n",
    "random.randrange(1,7)\n",
    "# random.choice([1,2,3,4,5,6])"
   ]
  },
  {
   "cell_type": "code",
   "execution_count": 76,
   "metadata": {},
   "outputs": [
    {
     "name": "stdout",
     "output_type": "stream",
     "text": [
      "771046\n"
     ]
    }
   ],
   "source": [
    "import random\n",
    "\n",
    "password = \"\"\n",
    "for i in range(0,6):\n",
    "    password = password+str(random.randint(0,9))\n",
    "\n",
    "\n",
    "print(password)"
   ]
  },
  {
   "cell_type": "markdown",
   "metadata": {},
   "source": [
    "## Problem 7: BMI"
   ]
  },
  {
   "cell_type": "code",
   "execution_count": 86,
   "metadata": {},
   "outputs": [
    {
     "name": "stdout",
     "output_type": "stream",
     "text": [
      "How much is your weight (kg)? 80\n",
      "How much is your height (m)? 1.60\n",
      "your BMI is 31.249999999999993. Your normal weight is between 47.36000000000001 and 63.74400000000001.\n",
      "Obese\n"
     ]
    }
   ],
   "source": [
    "weight = float(input(\"How much is your weight (kg)? \"))\n",
    "height = float(input(\"How much is your height (m)? \"))\n",
    "# BMI = weight/(height**2)\n",
    "BMI = weight/(pow(height,2))\n",
    "min_normal_weught = 18.5*pow(height,2)\n",
    "max_normal_weught = 24.9*pow(height,2)\n",
    "print(f\"your BMI is {BMI}. Your normal weight is between {min_normal_weught} and {max_normal_weught}.\")\n",
    "if BMI<18.5:\n",
    "    print(\"Underweight\")\n",
    "# elif 18.5<=BMI<=24.9:\n",
    "elif BMI<25:\n",
    "    print(\"Normal\")\n",
    "# elif 25<=BMI<=29.9:\n",
    "elif BMI<30:\n",
    "    print(\"Overweight\")\n",
    "# elif 30<=BMI<=34.9:\n",
    "elif BMI<35:\n",
    "    print(\"Obese\")\n",
    "else:\n",
    "    print(\"Extremeley obese\")"
   ]
  },
  {
   "cell_type": "markdown",
   "metadata": {},
   "source": [
    "## Problem 8,9,10: Draw figures"
   ]
  },
  {
   "cell_type": "code",
   "execution_count": 23,
   "metadata": {},
   "outputs": [
    {
     "name": "stdout",
     "output_type": "stream",
     "text": [
      "Enter a number4\n",
      "****\n",
      "***\n",
      "**\n",
      "*\n",
      "\n"
     ]
    }
   ],
   "source": [
    "n = int(input(\"Enter a number\"))\n",
    "star = \"*\"\n",
    "for i in range(0,n+1):\n",
    "    print(star*(n-i))"
   ]
  },
  {
   "cell_type": "code",
   "execution_count": 28,
   "metadata": {},
   "outputs": [
    {
     "name": "stdout",
     "output_type": "stream",
     "text": [
      "Enter a number5\n",
      "*\n",
      "**\n",
      "***\n",
      "****\n",
      "*****\n",
      "****\n",
      "***\n",
      "**\n",
      "*\n",
      "\n",
      "*\n",
      "**\n",
      "***\n",
      "****\n",
      "*****\n",
      "****\n",
      "***\n",
      "**\n",
      "*\n"
     ]
    }
   ],
   "source": [
    "n = int(input(\"Enter a number\"))\n",
    "\n",
    "# My solution:\n",
    "star = \"*\"\n",
    "for i in range(1,n+1):\n",
    "    print(star*i)\n",
    "for i in range(1,n+1):\n",
    "    print(star*(n-i))\n",
    "    \n",
    "# His solution\n",
    "for i in range(1,n):\n",
    "    print(\"*\"*i)\n",
    "for i in range(n,0,-1): # -1 here means that it will count by reducing otherwise it would like to count from n, n+1, ...\n",
    "    print(\"*\"*(i))    "
   ]
  },
  {
   "cell_type": "code",
   "execution_count": 33,
   "metadata": {},
   "outputs": [
    {
     "name": "stdout",
     "output_type": "stream",
     "text": [
      "Enter a number4\n",
      "         *\n",
      "       ***\n",
      "     *****\n",
      "   *******\n"
     ]
    }
   ],
   "source": [
    "n = int(input(\"Enter a number\"))\n",
    "star = \"*\"\n",
    "for i in range(0,n):\n",
    "    print(\" \"*(2*(n-i)+1)+star*(2*i+1))"
   ]
  },
  {
   "cell_type": "code",
   "execution_count": 43,
   "metadata": {},
   "outputs": [
    {
     "name": "stdout",
     "output_type": "stream",
     "text": [
      "Enter a number5\n",
      "    *\n",
      "   ***\n",
      "  *****\n",
      " *******\n",
      "*********\n"
     ]
    }
   ],
   "source": [
    "n = int(input(\"Enter a number\"))\n",
    "star = \"*\"\n",
    "for i in range(0,n):\n",
    "    print(\" \"*(n-i-1)+star*(2*i+1))"
   ]
  },
  {
   "cell_type": "code",
   "execution_count": 48,
   "metadata": {},
   "outputs": [
    {
     "name": "stdout",
     "output_type": "stream",
     "text": [
      "Enter a number6\n",
      "      *\n",
      "     ***\n",
      "    *****\n",
      "   *******\n",
      "  *********\n",
      " ***********\n"
     ]
    }
   ],
   "source": [
    "n = int(input(\"Enter a number\"))\n",
    "star = \"*\"\n",
    "for i in range(1,n+1):\n",
    "    print(\" \"*(n-i),star*(2*i-1))"
   ]
  },
  {
   "cell_type": "code",
   "execution_count": 49,
   "metadata": {},
   "outputs": [
    {
     "name": "stdout",
     "output_type": "stream",
     "text": [
      "Enter a number5\n",
      "    *\n",
      "   ***\n",
      "  *****\n",
      " *******\n",
      "*********\n"
     ]
    }
   ],
   "source": [
    "n = int(input(\"Enter a number\"))\n",
    "star = \"*\"\n",
    "for i in range(1,n+1):\n",
    "    print(\" \"*(n-i),end=\"\") # default end is going to next line. here we defined for not going to next line.\n",
    "    print(star*(2*i-1))"
   ]
  },
  {
   "cell_type": "code",
   "execution_count": 52,
   "metadata": {},
   "outputs": [
    {
     "name": "stdout",
     "output_type": "stream",
     "text": [
      "Enter a number5\n",
      "    %*\n",
      "   %***\n",
      "  %*****\n",
      " %*******\n",
      "%*********\n"
     ]
    }
   ],
   "source": [
    "n = int(input(\"Enter a number\"))\n",
    "star = \"*\"\n",
    "for i in range(1,n+1):\n",
    "    print(\" \"*(n-i),star*(2*i-1),sep=\"%\")"
   ]
  },
  {
   "cell_type": "markdown",
   "metadata": {},
   "source": [
    "## Problem 11: Stone, scissor, paper"
   ]
  },
  {
   "cell_type": "code",
   "execution_count": 96,
   "metadata": {},
   "outputs": [
    {
     "name": "stdout",
     "output_type": "stream",
     "text": [
      "2\n",
      "stone=1, scissor=2 or paper=3?2\n",
      "CPU:  1\n",
      "lose\n"
     ]
    }
   ],
   "source": [
    "import random\n",
    "\n",
    "player = int(input(\"stone=1, scissor=2 or paper=3?\"))\n",
    "CPU = random.randint(1,3)\n",
    "\n",
    "print(\"CPU: \",CPU)\n",
    "if player == CPU:\n",
    "    print(\"Equal\")\n",
    "if ((player==1 and CPU==2) or (player==2 and CPU==3) or (player==3 and CPU==1)):\n",
    "    print(\"Win\")\n",
    "else:\n",
    "    print(\"lose\")\n",
    "    \n",
    "\n"
   ]
  },
  {
   "cell_type": "code",
   "execution_count": 130,
   "metadata": {},
   "outputs": [
    {
     "name": "stdout",
     "output_type": "stream",
     "text": [
      "Game repeat:10\n",
      "stone=1, scissor=2 or paper=3?1\n",
      "CPU:  1\n",
      "Equal\n",
      "stone=1, scissor=2 or paper=3?1\n",
      "CPU:  2\n",
      "Win\n",
      "stone=1, scissor=2 or paper=3?1\n",
      "CPU:  1\n",
      "Equal\n",
      "stone=1, scissor=2 or paper=3?1\n",
      "CPU:  1\n",
      "Equal\n",
      "stone=1, scissor=2 or paper=3?1\n",
      "CPU:  3\n",
      "lose\n",
      "stone=1, scissor=2 or paper=3?1\n",
      "CPU:  1\n",
      "Equal\n",
      "stone=1, scissor=2 or paper=3?1\n",
      "CPU:  1\n",
      "Equal\n",
      "stone=1, scissor=2 or paper=3?1\n",
      "CPU:  3\n",
      "lose\n",
      "stone=1, scissor=2 or paper=3?1\n",
      "CPU:  3\n",
      "lose\n",
      "stone=1, scissor=2 or paper=3?1\n",
      "CPU:  2\n",
      "Win\n",
      "You lose\n"
     ]
    }
   ],
   "source": [
    "import random\n",
    "\n",
    "repeat_number = int(input(\"Game repeat:\"))\n",
    "\n",
    "player_win =0\n",
    "CPU_win =0\n",
    "for i in range(1,repeat_number+1):\n",
    "    player = int(input(\"stone=1, scissor=2 or paper=3?\"))\n",
    "    CPU = random.randint(1,3)\n",
    "    print(\"CPU: \",CPU)\n",
    "    if player == CPU:\n",
    "        print(\"Equal\")\n",
    "    elif ((player,CPU)==(1,2) or (player,CPU)==(2,3) or (player,CPU)==(3,1)):\n",
    "        print(\"Win\")\n",
    "        player_win+=1\n",
    "    else:\n",
    "        print(\"lose\")\n",
    "        CPU_win+=1\n",
    "        \n",
    "if player_win>CPU_win:\n",
    "    print(\"You win\")\n",
    "elif player_win<CPU_win:\n",
    "    print(\"You lose\")\n",
    "else:\n",
    "    print(\"You are equal\")"
   ]
  },
  {
   "cell_type": "markdown",
   "metadata": {},
   "source": [
    "## Problem 12: Guessing number"
   ]
  },
  {
   "cell_type": "code",
   "execution_count": 5,
   "metadata": {},
   "outputs": [
    {
     "name": "stdout",
     "output_type": "stream",
     "text": [
      "Maximum number: 4\n",
      "Guess the number: 3\n",
      "Sorry 1 != 3\n"
     ]
    }
   ],
   "source": [
    "# Answer of myself \n",
    "import random\n",
    "max_range = int(input(\"Maximum number: \"))\n",
    "target_number = random.randrange(1, max_range)\n",
    "Guess_number = int(input(\"Guess the number: \"))\n",
    "\n",
    "if Guess_number==target_number:\n",
    "    print(\"Conguratulation, %d = %d\" %(target_number,Guess_number))\n",
    "else:\n",
    "    print(\"Sorry %d != %d\" %(target_number,Guess_number))"
   ]
  },
  {
   "cell_type": "code",
   "execution_count": 2,
   "metadata": {},
   "outputs": [
    {
     "name": "stdout",
     "output_type": "stream",
     "text": [
      "Maximum number: 500\n",
      "Maximum try is 9\n",
      "Guess the number: 500\n",
      "Your guess is more than the target number.\n",
      "Guess the number: 500\n",
      "Your guess is more than the target number.\n",
      "Guess the number: 500\n",
      "Your guess is more than the target number.\n",
      "Guess the number: 500\n",
      "Your guess is more than the target number.\n",
      "Guess the number: 500\n",
      "Your guess is more than the target number.\n",
      "Guess the number: 500\n",
      "Your guess is more than the target number.\n",
      "Guess the number: 500\n",
      "Your guess is more than the target number.\n",
      "Guess the number: 500\n",
      "Your guess is more than the target number.\n",
      "Guess the number: 500\n",
      "Your guess is more than the target number.\n",
      "Guess the number: 500\n",
      "target number is 373 and you could not win\n"
     ]
    }
   ],
   "source": [
    "# Answer by the teacher\n",
    "import random\n",
    "max_range = int(input(\"Maximum number: \"))\n",
    "target_number = random.randrange(1, max_range)\n",
    "\n",
    "# -----------------------------------------------------\n",
    "# How many number can a person guess the number in a binary structure? \n",
    "# The most intelligent number for repeating guessing is log of the range\n",
    "# we will round it to up with math.ceil\n",
    "import math\n",
    "max_iter = math.ceil(math.log2(max_range))\n",
    "print(f\"Maximum try is {max_iter}\")\n",
    "# -----------------------------------------------------\n",
    "\n",
    "Guess_number = int(input(\"Guess the number: \"))\n",
    "tr =1\n",
    "while(tr<= max_iter):\n",
    "    if Guess_number <target_number:\n",
    "        print(\"Your guess is less than the target number.\")\n",
    "    elif Guess_number >target_number:\n",
    "        print(\"Your guess is more than the target number.\")\n",
    "    else:\n",
    "        print(\"Conguratulation, %d = %d\" %(target_number,Guess_number))\n",
    "        print(f\"number of try is {tr}\")\n",
    "    tr += 1\n",
    "    Guess_number = int(input(\"Guess the number: \"))\n",
    "if tr>max_iter:\n",
    "    print(f\"target number is {target_number} and you could not win\")"
   ]
  },
  {
   "cell_type": "markdown",
   "metadata": {},
   "source": [
    "## Problem 13: Recursive function: Fibonacci function"
   ]
  },
  {
   "cell_type": "code",
   "execution_count": 7,
   "metadata": {},
   "outputs": [
    {
     "name": "stdout",
     "output_type": "stream",
     "text": [
      "How many number of Fibonacci do you want? 5\n",
      "0\n",
      "1\n",
      "1\n",
      "1\n",
      "1\n"
     ]
    }
   ],
   "source": [
    "# My answer but wrong\n",
    "Fibonn_1 = 0\n",
    "Fibonn_2 = 1\n",
    "number_of_Fib=int(input('How many number of Fibonacci do you want? '))\n",
    "\n",
    "print(Fibonn_1)\n",
    "print(Fibonn_2)\n",
    "for i in range(1,number_of_Fib-1):\n",
    "               Fibonn_3 = Fibonn_1+Fibonn_2\n",
    "               print(C)\n",
    "               Fibonn_1==Fibonn_2\n",
    "               Fibonn_2==Fibonn_3"
   ]
  },
  {
   "cell_type": "code",
   "execution_count": 16,
   "metadata": {},
   "outputs": [
    {
     "name": "stdout",
     "output_type": "stream",
     "text": [
      "How many number of Fibonacci do you want? 5\n",
      "[1, 1, 2, 2, 2]\n"
     ]
    }
   ],
   "source": [
    "# My answer but wrong\n",
    "Fibonn_1 = 1\n",
    "Fibonn_2 = 1\n",
    "number_of_Fib=int(input('How many number of Fibonacci do you want? '))\n",
    "Fibo =[]\n",
    "Fibo.append(Fibonn_1)\n",
    "Fibo.append(Fibonn_2)\n",
    "\n",
    "for i in range(1,number_of_Fib-1):\n",
    "               Fibonn_3 == Fibonn_1+Fibonn_2\n",
    "               Fibo.append(Fibonn_3)\n",
    "               Fibonn_1==Fibo[i-1]\n",
    "               Fibonn_2==Fibo[i-2]\n",
    "print(Fibo)"
   ]
  },
  {
   "cell_type": "code",
   "execution_count": 32,
   "metadata": {},
   "outputs": [
    {
     "name": "stdout",
     "output_type": "stream",
     "text": [
      "How many number of Fibonacci do you want? 10\n",
      "0\n",
      "1\n",
      "1\n",
      "2\n",
      "3\n",
      "5\n",
      "8\n",
      "13\n",
      "21\n",
      "34\n"
     ]
    }
   ],
   "source": [
    "#Teacher's answer\n",
    "\n",
    "def Fibo(n):\n",
    "    if n==1:\n",
    "        return 0\n",
    "    elif n==2:\n",
    "        return 1\n",
    "    else:\n",
    "        return Fibo(n-1)+Fibo(n-2)\n",
    "    \n",
    "# print(Fibo(5))\n",
    "\n",
    "# I added the following to print all of Fibonacci function\n",
    "number_of_Fib=int(input('How many number of Fibonacci do you want? '))\n",
    "for i in range(1,number_of_Fib+1):\n",
    "    print(Fibo(i))"
   ]
  },
  {
   "cell_type": "markdown",
   "metadata": {},
   "source": [
    "## Problem 14,15: Recursive function: Recursive Devision and Recursive Reminder"
   ]
  },
  {
   "cell_type": "code",
   "execution_count": 39,
   "metadata": {},
   "outputs": [
    {
     "data": {
      "text/plain": [
       "3"
      ]
     },
     "execution_count": 39,
     "metadata": {},
     "output_type": "execute_result"
    }
   ],
   "source": [
    "def division(a,b):\n",
    "    if a<b:\n",
    "        return 0\n",
    "    elif a>=b:\n",
    "        return (1+division(a-b,b))\n",
    "    \n",
    "division(9,3)"
   ]
  },
  {
   "cell_type": "code",
   "execution_count": 40,
   "metadata": {},
   "outputs": [
    {
     "data": {
      "text/plain": [
       "3"
      ]
     },
     "execution_count": 40,
     "metadata": {},
     "output_type": "execute_result"
    }
   ],
   "source": [
    "# Teacher's answer:\n",
    "def division(a,b):\n",
    "    if a<b:\n",
    "        return 0\n",
    "    return (1+division(a-b,b))\n",
    "    \n",
    "division(9,3)"
   ]
  },
  {
   "cell_type": "code",
   "execution_count": 47,
   "metadata": {},
   "outputs": [
    {
     "data": {
      "text/plain": [
       "2"
      ]
     },
     "execution_count": 47,
     "metadata": {},
     "output_type": "execute_result"
    }
   ],
   "source": [
    "def reminder(a,b):\n",
    "    if a<b:\n",
    "        return a\n",
    "    return (a-(division(a,b)*b))\n",
    "\n",
    "reminder(2,3)"
   ]
  },
  {
   "cell_type": "code",
   "execution_count": 52,
   "metadata": {},
   "outputs": [
    {
     "data": {
      "text/plain": [
       "0"
      ]
     },
     "execution_count": 52,
     "metadata": {},
     "output_type": "execute_result"
    }
   ],
   "source": [
    "# Teacher's answer:\n",
    "# There is a note in the video: The number that a function can use itslf inside of it is limited\n",
    "# so we cannot divide a high number with a low number.\n",
    "def reminder(a,b):\n",
    "    if a<b:\n",
    "        return a\n",
    "    return reminder(a-b,b)\n",
    "    \n",
    "reminder(9,3)"
   ]
  },
  {
   "cell_type": "markdown",
   "metadata": {},
   "source": [
    "## Problem 16,17: Recursive function: Recursive Add, Recursive multiply"
   ]
  },
  {
   "cell_type": "code",
   "execution_count": 54,
   "metadata": {},
   "outputs": [
    {
     "data": {
      "text/plain": [
       "22"
      ]
     },
     "execution_count": 54,
     "metadata": {},
     "output_type": "execute_result"
    }
   ],
   "source": [
    "def addition(a,b):\n",
    "    if b==0:\n",
    "        return a\n",
    "    return addition(a+1,b-1)\n",
    "\n",
    "addition(12,10)"
   ]
  },
  {
   "cell_type": "code",
   "execution_count": 59,
   "metadata": {},
   "outputs": [
    {
     "data": {
      "text/plain": [
       "0"
      ]
     },
     "execution_count": 59,
     "metadata": {},
     "output_type": "execute_result"
    }
   ],
   "source": [
    "def multiply(a,b):\n",
    "    if b==0:\n",
    "        return 0\n",
    "    elif b==1:\n",
    "        return a\n",
    "    return a+multiply(a,b-1)\n",
    "\n",
    "multiply(10,0)"
   ]
  },
  {
   "cell_type": "code",
   "execution_count": 62,
   "metadata": {},
   "outputs": [
    {
     "data": {
      "text/plain": [
       "4"
      ]
     },
     "execution_count": 62,
     "metadata": {},
     "output_type": "execute_result"
    }
   ],
   "source": [
    "# I am not sure if I should solve it in this way\n",
    "def power(a,b):\n",
    "    if b==0:\n",
    "        return 1\n",
    "    elif b==1:\n",
    "        return a\n",
    "    return a*power(a,b-1)\n",
    "\n",
    "power(2,2)"
   ]
  },
  {
   "cell_type": "markdown",
   "metadata": {},
   "source": [
    "## Problem 18: Recursive Hanoi Tower \n",
    "\n",
    "### I did not understand it"
   ]
  },
  {
   "cell_type": "code",
   "execution_count": 1,
   "metadata": {},
   "outputs": [
    {
     "name": "stdout",
     "output_type": "stream",
     "text": [
      "Move from a to c\n",
      "Move from a to b\n",
      "Move from c to b\n",
      "Move from a to c\n",
      "Move from b to a\n",
      "Move from b to c\n",
      "Move from a to c\n"
     ]
    }
   ],
   "source": [
    "def hano(n, a, b, c):\n",
    "    if n==1:\n",
    "        print(f\"Move from {a} to {c}\")\n",
    "    else:\n",
    "        hano(n-1, a, c, b)\n",
    "        print(f'Move from {a} to {c}')\n",
    "        hano(n-1, b, a, c)\n",
    "        \n",
    "hano(3, 'a', 'b', 'c')"
   ]
  },
  {
   "cell_type": "code",
   "execution_count": 2,
   "metadata": {},
   "outputs": [
    {
     "name": "stdout",
     "output_type": "stream",
     "text": [
      "[3, 2]\n",
      "[]\n",
      "[1]\n",
      "##############\n",
      "[3]\n",
      "[2]\n",
      "[1]\n",
      "##############\n",
      "[3]\n",
      "[2, 1]\n",
      "[]\n",
      "##############\n",
      "[]\n",
      "[2, 1]\n",
      "[3]\n",
      "##############\n",
      "[1]\n",
      "[2]\n",
      "[3]\n",
      "##############\n",
      "[1]\n",
      "[]\n",
      "[3, 2]\n",
      "##############\n",
      "[]\n",
      "[]\n",
      "[3, 2, 1]\n",
      "##############\n"
     ]
    }
   ],
   "source": [
    "# https://fa.wikipedia.org/wiki/%D8%A8%D8%B1%D8%AC_%D9%87%D8%A7%D9%86%D9%88%DB%8C\n",
    "A = [3, 2, 1]\n",
    "B = []\n",
    "C = []\n",
    "\n",
    "def move(n, source, target, auxiliary):\n",
    "    if n > 0:\n",
    "        # Move n - 1 disks from source to auxiliary, so they are out of the way\n",
    "        move(n - 1, source, auxiliary, target)\n",
    "\n",
    "        # Move the nth disk from source to target\n",
    "        target.append(source.pop())\n",
    "\n",
    "        # Display our progress\n",
    "        print(A, B, C, '##############', sep='\\n')\n",
    "\n",
    "        # Move the n - 1 disks that we left on auxiliary onto target\n",
    "        move(n - 1, auxiliary, target, source)\n",
    "# Initiate call from source A to target C with auxiliary B\n",
    "move(3, A, C, B)"
   ]
  },
  {
   "cell_type": "markdown",
   "metadata": {},
   "source": [
    "## Problem 19: Removing repeated amount from a list"
   ]
  },
  {
   "cell_type": "code",
   "execution_count": 25,
   "metadata": {},
   "outputs": [
    {
     "name": "stdout",
     "output_type": "stream",
     "text": [
      "[1, 10, 2, 3, 'Duplicate', 'Duplicate', 'Duplicate', 'Duplicate', 4, 5, 'Duplicate', 'Duplicate', 6, 7, 'Duplicate', 8, 'Duplicate', 'Duplicate', 'Duplicate', 9, 0, 'Duplicate', 'Duplicate']\n"
     ]
    }
   ],
   "source": [
    "List = [1, 10, 2, 3, 3, 3, 3, 3, 4, 5, 5, 5, 6, 7, 7, 8, 8, 1, 8, 9, 0, 10, 9]\n",
    "\n",
    "for i in range(len(List)):\n",
    "    for j in range(i+1, len(List)):\n",
    "#         print(i,j)\n",
    "        if List[i]==List[j]:\n",
    "            List[j]='Duplicate'\n",
    "print(List)"
   ]
  },
  {
   "cell_type": "code",
   "execution_count": 57,
   "metadata": {},
   "outputs": [
    {
     "name": "stdout",
     "output_type": "stream",
     "text": [
      "[0, 1, 2, 3, 4, 5, 6, 7, 8, 9, 10]\n",
      "[0, 1, 2, 3, 4, 5, 6, 7, 8, 9]\n",
      "[0, 1, 2, 3, 4, 5, 6, 7, 8, 9, 10, 5, 5, 6, 7, 7, 8, 8, 8, 9, 9, 10, 10]\n",
      "10\n"
     ]
    }
   ],
   "source": [
    "List = [1, 10, 2, 3, 3, 3, 3, 3, 4, 5, 5, 5, 6, 7, 7, 8, 8, 1, 8, 9, 0, 10, 9]\n",
    "\n",
    "List.sort()\n",
    "# print(List)\n",
    "writer = 0\n",
    "for i , j in enumerate(List[1:], start=1):\n",
    "#     print(i,j)\n",
    "    if List[i-1]!=j: # Here it is telling that if they are equal do nothing \n",
    "        #but if they are not equal add one index to the List and add the new amount to it. \n",
    "        #For example for List[0] it will put 0, then for List[1] it will put 1 and \n",
    "        #as List[2] is repeatative it will not add writer so then List[2] will be 2\n",
    "        writer +=1\n",
    "        List[writer]=j\n",
    "\n",
    "print(List[:writer+1])\n",
    "print(List[:writer])\n",
    "print(List[:])\n",
    "print(List[writer])"
   ]
  },
  {
   "cell_type": "code",
   "execution_count": 136,
   "metadata": {},
   "outputs": [],
   "source": [
    "# List = [1, 10, 2, 3, 3, 3, 3, 3, 4, 5, 5, 5, 6, 7, 7, 8, 8, 1, 8, 9, 0, 10, 9]\n",
    "\n",
    "# print(list(enumerate(List[1:], start=1)))"
   ]
  },
  {
   "cell_type": "markdown",
   "metadata": {},
   "source": [
    "## Problem 20: Removing repeated amount from a list by Count function"
   ]
  },
  {
   "cell_type": "code",
   "execution_count": 64,
   "metadata": {},
   "outputs": [
    {
     "name": "stdout",
     "output_type": "stream",
     "text": [
      "[0, 1, 1, 2, 3, 3, 3, 3, 3, 4, 5, 5, 5, 6, 7, 7, 8, 8, 8, 9, 9, 10, 10]\n",
      "[0, 1, 2, 3, 4, 5, 6, 7, 8, 9, 10]\n"
     ]
    }
   ],
   "source": [
    "List = [1, 10, 2, 3, 3, 3, 3, 3, 4, 5, 5, 5, 6, 7, 7, 8, 8, 1, 8, 9, 0, 10, 9]\n",
    "List.sort()\n",
    "print(List)\n",
    "def remove_duplicate(List):\n",
    "    for i in List:\n",
    "        for j in range(List.count(i)-1): # Here it is counting number of repeatative amount and \n",
    "            #reduce 1 from it to keep one of them in the list and remove others.\n",
    "            List.remove(i)\n",
    "\n",
    "            \n",
    "remove_duplicate(List)        \n",
    "List.sort()\n",
    "print(List)"
   ]
  },
  {
   "cell_type": "markdown",
   "metadata": {},
   "source": [
    "## Problem 21: Two sum"
   ]
  },
  {
   "cell_type": "code",
   "execution_count": 98,
   "metadata": {},
   "outputs": [
    {
     "name": "stdout",
     "output_type": "stream",
     "text": [
      "Target:5\n",
      "0 3\n",
      "1 2\n",
      "4 5\n"
     ]
    }
   ],
   "source": [
    "# # lst = list(map(int,input().strip().split()))[:]\n",
    "# n = int(input(\"Enter number of elements : \"))\n",
    "# lst = list(map(int,input(\"\\nEnter the numbers : \").strip().split()))[:n]\n",
    "# # https://www.geeksforgeeks.org/python-get-a-list-as-input-from-user/\n",
    "target = int(input('Target:'))\n",
    "lst=[1,2,3,4,5, 0]\n",
    "\n",
    "for i in range(len(lst)):\n",
    "    for j in range(i+1, len(lst)):\n",
    "        if lst[i]+lst[j]==target:\n",
    "            print (i, j)\n",
    "            \n",
    "# Time complexity  O(n^2)"
   ]
  },
  {
   "cell_type": "code",
   "execution_count": 105,
   "metadata": {},
   "outputs": [
    {
     "name": "stdout",
     "output_type": "stream",
     "text": [
      "Target:5\n",
      "0 1\n",
      "2 3\n",
      "4 5\n"
     ]
    }
   ],
   "source": [
    "target = int(input('Target:'))\n",
    "lst=[2,3,4,1, 5, 0]\n",
    "\n",
    "store = dict()\n",
    "for i in range(len(lst)):\n",
    "    k= target-lst[i]\n",
    "    if k not in store:\n",
    "        store[lst[i]]=i # here it is saving every value with the place of it to a dict\n",
    "    else:\n",
    "        print(store[k],i) # Here will print the place of value in the dict by another value based on i\n",
    "        "
   ]
  },
  {
   "cell_type": "code",
   "execution_count": 128,
   "metadata": {},
   "outputs": [
    {
     "name": "stdout",
     "output_type": "stream",
     "text": [
      "Target:5\n",
      "1 0\n",
      "3 2\n",
      "5 4\n"
     ]
    }
   ],
   "source": [
    "target = int(input('Target:'))\n",
    "lst=[2,3,4,1, 5, 0]\n",
    "\n",
    "# print(list(enumerate(lst))) # TypeError: 'str' object is not callable\n",
    "store = dict()\n",
    "for i, value in enumerate(lst[:], start=0): # enumerate(lst[:], start=0) is equal enumerate(lst[:])\n",
    "    k = target - value\n",
    "    if k not in store:\n",
    "        store[value]=i\n",
    "    else:\n",
    "        print(i,store[k])"
   ]
  },
  {
   "cell_type": "code",
   "execution_count": 147,
   "metadata": {},
   "outputs": [
    {
     "name": "stdout",
     "output_type": "stream",
     "text": [
      "Target:5\n",
      "0 1\n",
      "1 0\n",
      "2 3\n",
      "3 2\n",
      "4 5\n",
      "5 4\n",
      "{0: 2, 1: 3, 2: 4, 3: 1, 4: 5, 5: 0}\n"
     ]
    }
   ],
   "source": [
    "target = int(input('Target:'))\n",
    "lst=[2,3,4,1, 5, 0]\n",
    "\n",
    "# print(list(enumerate(lst))) # TypeError: 'str' object is not callable\n",
    "store = dict()\n",
    "for i, value in enumerate(lst): \n",
    "    store[i]=value\n",
    "for i in range(len(lst)):\n",
    "    for j in store:\n",
    "        if target-lst[i]==store[j]:\n",
    "            print(i,j)\n",
    "#         else return \n",
    "print(store)\n"
   ]
  },
  {
   "cell_type": "code",
   "execution_count": 137,
   "metadata": {},
   "outputs": [],
   "source": [
    "# https://www.geeksforgeeks.org/enumerate-in-python/\n",
    "# # Python program to illustrate\n",
    "# # enumerate function\n",
    "# l1 = [\"eat\", \"sleep\", \"repeat\"]\n",
    "# s1 = \"geek\"\n",
    "\n",
    "# # creating enumerate objects\n",
    "# obj1 = enumerate(l1)\n",
    "# obj2 = enumerate(s1)\n",
    "\n",
    "# print (\"Return type:\", type(obj1))\n",
    "# print (list(enumerate(l1)))\n",
    "\n",
    "# # changing start index to 2 from 0\n",
    "# print (list(enumerate(s1, 2)))\n"
   ]
  },
  {
   "cell_type": "markdown",
   "metadata": {},
   "source": [
    "## Problem 22: Palindrome number "
   ]
  },
  {
   "cell_type": "code",
   "execution_count": 161,
   "metadata": {},
   "outputs": [
    {
     "name": "stdout",
     "output_type": "stream",
     "text": [
      "Input your digit-101\n",
      "not Palindrome\n"
     ]
    }
   ],
   "source": [
    "# My answer:\n",
    "K = input(\"Input your digit\")\n",
    "# print(K[:])\n",
    "# print(K[::-1])\n",
    "if K[:]==K[::-1]:\n",
    "    print('Palindrome')\n",
    "else:\n",
    "    print('not Palindrome')"
   ]
  },
  {
   "cell_type": "code",
   "execution_count": 167,
   "metadata": {},
   "outputs": [
    {
     "name": "stdout",
     "output_type": "stream",
     "text": [
      "Input your digit: -121\n",
      "not Palindrome\n"
     ]
    }
   ],
   "source": [
    "def palindrome(num):\n",
    "    if num[:]==num[::-1]:\n",
    "        return'Palindrome'\n",
    "    else:\n",
    "        return'not Palindrome'\n",
    "        \n",
    "K = input(\"Input your digit: \")        \n",
    "print(palindrome(K))"
   ]
  },
  {
   "cell_type": "code",
   "execution_count": 168,
   "metadata": {},
   "outputs": [
    {
     "name": "stdout",
     "output_type": "stream",
     "text": [
      "Input your digit: -120\n",
      "False\n"
     ]
    }
   ],
   "source": [
    "def palindrome(num):\n",
    "    if num[:]==num[::-1]:\n",
    "        return True\n",
    "    else:\n",
    "        return False\n",
    "        \n",
    "K = input(\"Input your digit: \")        \n",
    "print(palindrome(K))"
   ]
  },
  {
   "cell_type": "code",
   "execution_count": 172,
   "metadata": {},
   "outputs": [
    {
     "data": {
      "text/plain": [
       "False"
      ]
     },
     "execution_count": 172,
     "metadata": {},
     "output_type": "execute_result"
    }
   ],
   "source": [
    "# Answer of teacher:\n",
    "def palindrome(num):\n",
    "    if num<0:\n",
    "        return False\n",
    "    k = 0\n",
    "    n = num\n",
    "    while n>0:\n",
    "        k = n%10 +k*10 # % baghimande 121%10=1, 121//10=12\n",
    "        n = n //10\n",
    "    if k == num:\n",
    "        return True\n",
    "    return False\n",
    "palindrome(-121)"
   ]
  },
  {
   "cell_type": "code",
   "execution_count": 176,
   "metadata": {},
   "outputs": [
    {
     "data": {
      "text/plain": [
       "False"
      ]
     },
     "execution_count": 176,
     "metadata": {},
     "output_type": "execute_result"
    }
   ],
   "source": [
    "# Answer of teacher:\n",
    "\n",
    "def palindrome(num):\n",
    "    if num<0:\n",
    "        return False\n",
    "    return str(num)==str(num)[::-1] # It will change number to string and use method in the string\n",
    "\n",
    "palindrome(-121)"
   ]
  },
  {
   "cell_type": "markdown",
   "metadata": {},
   "source": [
    "## Problem 23: Roman to Integer"
   ]
  },
  {
   "cell_type": "code",
   "execution_count": 195,
   "metadata": {},
   "outputs": [
    {
     "name": "stdout",
     "output_type": "stream",
     "text": [
      "6\n"
     ]
    }
   ],
   "source": [
    "dict_roman = {'I':1, 'V':5, 'X':10, 'L':50, 'C':100, 'D':500, 'M':1000}\n",
    "roman = 'VI'\n",
    "num = 0\n",
    "# roman = input('What is your roman number: ')\n",
    "for i in range(0,len(roman)-1):\n",
    "    if roman[i]>=roman[i+1]:\n",
    "        num += dict_roman[roman[i]]\n",
    "    else:\n",
    "        num -= dict_roman[roman[i]]\n",
    "num += dict_roman[roman[-1]]    \n",
    "    \n",
    "print (num)"
   ]
  },
  {
   "cell_type": "markdown",
   "metadata": {},
   "source": [
    "## Problem 24: Longest common prefix"
   ]
  },
  {
   "cell_type": "code",
   "execution_count": 41,
   "metadata": {},
   "outputs": [
    {
     "name": "stdout",
     "output_type": "stream",
     "text": [
      "\n"
     ]
    }
   ],
   "source": [
    "string1 = []\n",
    "string = ['care', 'natterpillar', 'rannnnnnnnnnnn', 'cart', 'cp']\n",
    "# print(min(string))  # If we do not write key, it will not count repeatative letters in words\n",
    "def longestCommonPrefix(string):\n",
    "    if not string:\n",
    "        return \"\"\n",
    "    short_str = min(string,key=len)\n",
    "    for i, value in enumerate(short_str):\n",
    "        for strs in string:\n",
    "            if strs[i]!=value:\n",
    "                return short_str[:i]\n",
    "    return short_str\n",
    "\n",
    "print(longestCommonPrefix(string))"
   ]
  },
  {
   "cell_type": "markdown",
   "metadata": {},
   "source": [
    "## Problem 25: Remove duplicate"
   ]
  },
  {
   "cell_type": "code",
   "execution_count": 100,
   "metadata": {},
   "outputs": [],
   "source": [
    "# Li = [1,3,2,2,1,0,0,0,7,3,4,0,2]\n",
    "# Li.sort()\n",
    "# print (Li)\n",
    "# def RemoveDuplicate(List):\n",
    "#     for i,value in enumerate(List, start=0):\n",
    "#         if List[i-1]==value:\n",
    "#             print('Before removing:', List, i, value)\n",
    "#             List.remove(value)\n",
    "#             print ('After removing: ', List)\n",
    "#     return List\n",
    "            \n",
    "# print(RemoveDuplicate(Li))"
   ]
  },
  {
   "cell_type": "code",
   "execution_count": 101,
   "metadata": {},
   "outputs": [],
   "source": [
    "# Li = [1,3,2,2,1,0,0,0,7,3,4,0,2]\n",
    "# Li.sort()\n",
    "# print (Li)\n",
    "# def RemoveDuplicate(List):\n",
    "#     for i,value in enumerate(List, start=1):\n",
    "#         if List[i-1]==value:\n",
    "#             print('Before removing:', List, i, value)\n",
    "#             List.remove(List[i-1])\n",
    "#             print ('After removing: ', List)\n",
    "#     return List\n",
    "            \n",
    "# print(RemoveDuplicate(Li))"
   ]
  },
  {
   "cell_type": "code",
   "execution_count": 128,
   "metadata": {},
   "outputs": [
    {
     "name": "stdout",
     "output_type": "stream",
     "text": [
      "[0, 1, 2, 3, 4]\n",
      "[0, 1, 2, 3, 4, 3, 4]\n"
     ]
    }
   ],
   "source": [
    "Li = [1,3,2,2,1,0,0,0,7,3,4,0,2]\n",
    "Li1 = []\n",
    "Li2 = [0, 0, 0, 0, 1, 1, 2, 2, 2, 3, 3, 4, 7]\n",
    "Li3 = [0,0,1,2,3,3,4]\n",
    "Li.sort()\n",
    "\n",
    "def RemoveDuplicate(List):\n",
    "    length = 0\n",
    "    if len(List)==0:\n",
    "        return length\n",
    "    for i in range(1, len(List)):\n",
    "        if List[length]<List[i]:\n",
    "            length += 1\n",
    "            List[length]=List[i]\n",
    "    return length\n",
    "            \n",
    "# print(RemoveDuplicate(Li2))\n",
    "print(Li3[:RemoveDuplicate(Li3)+1])\n",
    "# print(Li3)"
   ]
  },
  {
   "cell_type": "markdown",
   "metadata": {},
   "source": [
    "## Problem 26: Remove element \n",
    "##### In this session the teacher had checked the error of the code by breaking it in the VisualStudio"
   ]
  },
  {
   "cell_type": "code",
   "execution_count": 149,
   "metadata": {},
   "outputs": [
    {
     "name": "stdout",
     "output_type": "stream",
     "text": [
      "[3, 2, 2, 0]\n",
      "[3, 2, 2, 0]\n",
      "[3, 2, 2, 0]\n"
     ]
    }
   ],
   "source": [
    "Li = [1,3,2,2,1,0,1]\n",
    "Num = 1\n",
    "\n",
    "# My solution:\n",
    "def RemoveNumber(number,List):\n",
    "    for i,value in enumerate(List, start=0):\n",
    "        if value==number:\n",
    "            List.remove(value)\n",
    "    return List\n",
    "\n",
    "print(RemoveNumber(Num,Li))\n",
    "\n",
    "# Teacher solution1:\n",
    "def RemoveNumber1(number,List):\n",
    "    index = 0 \n",
    "    for i in List:\n",
    "        if number !=i:\n",
    "            List[index]=i\n",
    "            index += 1\n",
    "    return index\n",
    "    \n",
    "Li = [1,3,2,2,1,0,1]\n",
    "Num = 1\n",
    "k = RemoveNumber1(Num,Li)\n",
    "print(Li[:k])\n",
    "    \n",
    "# Teacher solution2:\n",
    "# List.remove(number) # It will remove the first repeatative number so we should use a loop for it.\n",
    "def RemoveNumber2(number,List):\n",
    "    while number in List:\n",
    "        List.remove(number)\n",
    "\n",
    "Li = [1,3,2,2,1,0,1]\n",
    "Num = 1\n",
    "RemoveNumber2(Num,Li)\n",
    "print(Li)"
   ]
  },
  {
   "cell_type": "code",
   "execution_count": null,
   "metadata": {},
   "outputs": [],
   "source": []
  }
 ],
 "metadata": {
  "kernelspec": {
   "display_name": "Python 3",
   "language": "python",
   "name": "python3"
  },
  "language_info": {
   "codemirror_mode": {
    "name": "ipython",
    "version": 3
   },
   "file_extension": ".py",
   "mimetype": "text/x-python",
   "name": "python",
   "nbconvert_exporter": "python",
   "pygments_lexer": "ipython3",
   "version": "3.7.6"
  }
 },
 "nbformat": 4,
 "nbformat_minor": 4
}
